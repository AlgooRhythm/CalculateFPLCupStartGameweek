{
 "cells": [
  {
   "cell_type": "markdown",
   "id": "c4a11ef1",
   "metadata": {},
   "source": [
    "# Calculate FPL Cup Start Gameweek"
   ]
  },
  {
   "cell_type": "code",
   "execution_count": 22,
   "id": "0673ba46",
   "metadata": {},
   "outputs": [
    {
     "name": "stdout",
     "output_type": "stream",
     "text": [
      "Total Players : 8724219\n"
     ]
    }
   ],
   "source": [
    "import requests\n",
    "\n",
    "url = 'https://fantasy.premierleague.com/api/bootstrap-static/'\n",
    "r = requests.get(url)\n",
    "\n",
    "json = r.json()\n",
    "\n",
    "TotalPlayersFrom_FPL_API = json['total_players']\n",
    "\n",
    "print('Total Players :', TotalPlayersFrom_FPL_API)"
   ]
  },
  {
   "cell_type": "code",
   "execution_count": 23,
   "id": "37b8fd62",
   "metadata": {},
   "outputs": [],
   "source": [
    "# API JSON file from https://fantasy.premierleague.com/api/bootstrap-static/. \n",
    "## Uncomment below code line to see that API JSON file\n",
    "\n",
    "#json"
   ]
  },
  {
   "cell_type": "code",
   "execution_count": 24,
   "id": "1ec206e7",
   "metadata": {},
   "outputs": [
    {
     "name": "stdout",
     "output_type": "stream",
     "text": [
      "Total players    : 8,724,219\n",
      "Start FPL Cup    : Gameweek 16\n",
      "Eligible players : 8,388,608\n",
      "\n",
      "* 8,052,997 more players, to start at gameweek 15\n"
     ]
    }
   ],
   "source": [
    "totalPlayers = TotalPlayersFrom_FPL_API; #8,724,035 As of 4/12/2021 12.27AM\n",
    "LastGameweek = 38; StartFPLCupGameweek = LastGameweek; #InitialIze 'StartFPLCupGameweek' as the last gameweek of the season\n",
    "\n",
    "print(\"Total players    : {:,.0f}\".format(totalPlayers));\n",
    "\n",
    "i = 1;\n",
    "while 2**i  <= totalPlayers:\n",
    "    StartFPLCupGameweek = StartFPLCupGameweek - 1;\n",
    "    i+=1;\n",
    "\n",
    "if ((2**i - totalPlayers) != 2**(i-1)):\n",
    "    RemainingPlayers = (2**i - totalPlayers);\n",
    "else:\n",
    "    RemainingPlayers = 2**(i-1);\n",
    "    \n",
    "if StartFPLCupGameweek+1 > LastGameweek:\n",
    "    print(\"Winner have been determined\");\n",
    "else:\n",
    "    print(\"Start FPL Cup    : Gameweek\", StartFPLCupGameweek+1);\n",
    "    print(\"Eligible players : {:,.0f}\".format(2**(i-1)));\n",
    "    print(\"\");\n",
    "    print(\"* {:,.0f}\".format(RemainingPlayers), \"more players, to start at gameweek\", StartFPLCupGameweek)\n",
    "   "
   ]
  },
  {
   "cell_type": "code",
   "execution_count": null,
   "id": "bf647e3a",
   "metadata": {},
   "outputs": [],
   "source": []
  }
 ],
 "metadata": {
  "kernelspec": {
   "display_name": "Python 3",
   "language": "python",
   "name": "python3"
  },
  "language_info": {
   "codemirror_mode": {
    "name": "ipython",
    "version": 3
   },
   "file_extension": ".py",
   "mimetype": "text/x-python",
   "name": "python",
   "nbconvert_exporter": "python",
   "pygments_lexer": "ipython3",
   "version": "3.8.8"
  }
 },
 "nbformat": 4,
 "nbformat_minor": 5
}
